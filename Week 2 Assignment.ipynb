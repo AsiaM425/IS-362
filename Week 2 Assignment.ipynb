{
 "cells": [
  {
   "cell_type": "markdown",
   "id": "5196dd31-8683-4b35-b892-7d8abe4552ed",
   "metadata": {},
   "source": [
    "# Understanding Set Comprehensions in Python\n",
    "\n",
    "Set comprehensions are a concise way to create sets in Python based on an iterable...\n"
   ]
  },
  {
   "cell_type": "code",
   "execution_count": 4,
   "id": "5f00357a-b970-43a9-bc00-ee121d828bbb",
   "metadata": {},
   "outputs": [
    {
     "name": "stdout",
     "output_type": "stream",
     "text": [
      "{1, 4, 9, 16, 25}\n"
     ]
    }
   ],
   "source": [
    "# Example 1: Creating a set of squares of numbers from 1 to 5\n",
    "squares = {x**2 for x in range(1, 6)}\n",
    "print(squares)  # Output: {1, 4, 9, 16, 25}\n"
   ]
  }
 ],
 "metadata": {
  "kernelspec": {
   "display_name": "Python 3 (ipykernel)",
   "language": "python",
   "name": "python3"
  },
  "language_info": {
   "codemirror_mode": {
    "name": "ipython",
    "version": 3
   },
   "file_extension": ".py",
   "mimetype": "text/x-python",
   "name": "python",
   "nbconvert_exporter": "python",
   "pygments_lexer": "ipython3",
   "version": "3.12.1"
  }
 },
 "nbformat": 4,
 "nbformat_minor": 5
}
