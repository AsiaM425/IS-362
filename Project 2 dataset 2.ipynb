{
 "cells": [
  {
   "cell_type": "code",
   "execution_count": 14,
   "id": "b38362ed-5b16-4743-a17b-e779c5b318a4",
   "metadata": {},
   "outputs": [],
   "source": [
    "import pandas as pd"
   ]
  },
  {
   "cell_type": "markdown",
   "id": "abe9756d-c472-4d17-a931-60c52e534ee2",
   "metadata": {},
   "source": [
    "# SALES DATA"
   ]
  },
  {
   "cell_type": "markdown",
   "id": "60040134-f369-46c9-bb01-8685e81a482a",
   "metadata": {},
   "source": [
    "# Data Tidying and Transformation\n",
    "In this section, we will tidy up the untidy sales dataset provided, reshaping it from a wide format to a long format using pandas."
   ]
  },
  {
   "cell_type": "markdown",
   "id": "cbeabeee-89c5-4abc-a555-bfc83da799a2",
   "metadata": {},
   "source": [
    "# Creating the untidy dataset"
   ]
  },
  {
   "cell_type": "code",
   "execution_count": 15,
   "id": "d63bc615-b737-4fe2-aa42-a15e43ed05a4",
   "metadata": {},
   "outputs": [],
   "source": [
    "data = {\n",
    "    'Order ID': [1001, 1002, 1003],\n",
    "    'Product A Sales': [1500, 1800, 2000],\n",
    "    'Product B Sales': [1200, 900, 1500],\n",
    "    'Product C Sales': [800, 1000, 600]\n",
    "}\n",
    "df = pd.DataFrame(data)\n"
   ]
  },
  {
   "cell_type": "markdown",
   "id": "6eb96007-dd77-43c5-8412-3ab2d495304a",
   "metadata": {},
   "source": [
    "# Tidying up the dataset"
   ]
  },
  {
   "cell_type": "code",
   "execution_count": 16,
   "id": "5f8518ca-8b64-4e97-aac2-f621bc9bb13f",
   "metadata": {},
   "outputs": [],
   "source": [
    "tidy_df = pd.melt(df, id_vars='Order ID', var_name='Product', value_name='Sales')"
   ]
  },
  {
   "cell_type": "markdown",
   "id": "29f6be6d-0abc-478d-8d39-c1c556eb0be4",
   "metadata": {},
   "source": [
    "# Displaying the tidy dataset"
   ]
  },
  {
   "cell_type": "code",
   "execution_count": 17,
   "id": "890a21b2-d765-4adc-830d-a51ae8cdfc94",
   "metadata": {},
   "outputs": [
    {
     "name": "stdout",
     "output_type": "stream",
     "text": [
      "Tidy Dataset:\n",
      "   Order ID          Product  Sales\n",
      "0      1001  Product A Sales   1500\n",
      "1      1002  Product A Sales   1800\n",
      "2      1003  Product A Sales   2000\n",
      "3      1001  Product B Sales   1200\n",
      "4      1002  Product B Sales    900\n",
      "5      1003  Product B Sales   1500\n",
      "6      1001  Product C Sales    800\n",
      "7      1002  Product C Sales   1000\n",
      "8      1003  Product C Sales    600\n"
     ]
    }
   ],
   "source": [
    "print(\"Tidy Dataset:\")\n",
    "print(tidy_df)"
   ]
  },
  {
   "cell_type": "markdown",
   "id": "754dc55e-65b5-4f0a-9595-eac272c39312",
   "metadata": {},
   "source": [
    "# Analysis\n",
    "After tidying up the dataset, we will perform analysis on the tidy dataset. This includes calculating total sales for each product and identifying the product with the highest sales in each order.\n"
   ]
  },
  {
   "cell_type": "code",
   "execution_count": 18,
   "id": "a1d18fcb-92a0-474b-bce1-ed9f6be0291d",
   "metadata": {},
   "outputs": [
    {
     "name": "stdout",
     "output_type": "stream",
     "text": [
      "\n",
      "Total Sales for Each Product:\n",
      "Product\n",
      "Product A Sales    5300\n",
      "Product B Sales    3600\n",
      "Product C Sales    2400\n",
      "Name: Sales, dtype: int64\n",
      "\n",
      "Product with the Highest Sales in Each Order:\n",
      "   Order ID          Product  Sales\n",
      "0      1001  Product A Sales   1500\n",
      "1      1002  Product A Sales   1800\n",
      "2      1003  Product A Sales   2000\n"
     ]
    }
   ],
   "source": [
    "total_sales = tidy_df.groupby('Product')['Sales'].sum()\n",
    "max_sales_product = tidy_df.loc[tidy_df.groupby('Order ID')['Sales'].idxmax()]\n",
    "\n",
    "print(\"\\nTotal Sales for Each Product:\")\n",
    "print(total_sales)\n",
    "\n",
    "print(\"\\nProduct with the Highest Sales in Each Order:\")\n",
    "print(max_sales_product)\n"
   ]
  }
 ],
 "metadata": {
  "kernelspec": {
   "display_name": "Python 3 (ipykernel)",
   "language": "python",
   "name": "python3"
  },
  "language_info": {
   "codemirror_mode": {
    "name": "ipython",
    "version": 3
   },
   "file_extension": ".py",
   "mimetype": "text/x-python",
   "name": "python",
   "nbconvert_exporter": "python",
   "pygments_lexer": "ipython3",
   "version": "3.12.1"
  }
 },
 "nbformat": 4,
 "nbformat_minor": 5
}
