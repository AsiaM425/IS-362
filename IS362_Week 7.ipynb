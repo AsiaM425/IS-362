{
 "cells": [
  {
   "cell_type": "markdown",
   "id": "4e71acef-9410-45ed-ab2c-ef827d5f6555",
   "metadata": {},
   "source": [
    "# Introduction\n",
    "\n",
    "Welcome to our Movie Ratings DataFrame! In this digital realm, we have meticulously curated a collection of ratings data from our diverse group of movie enthusiasts. Each row represents a unique viewer, while each column corresponds to a specific movie title.\n",
    "\n",
    "As you peruse through our DataFrame, you'll uncover a treasure trove of insights into the cinematic tastes and preferences of our esteemed viewers. From heart-pounding thrillers to heartwarming dramas, our ratings data encapsulates a wide spectrum of cinematic experiences.\n",
    "\n",
    "Join us as we delve into the world of movies, exploring the highs and lows of cinematic storytelling through the lens of our meticulously curated ratings data. With each rating, a story unfolds, revealing the unique perspectives and passions of our viewers.\n",
    "\n",
    "So grab your popcorn and settle in for an immersive journey through the enchanting world of movies, as we unravel the mysteries of cinematic ratings together!"
   ]
  },
  {
   "cell_type": "code",
   "execution_count": 65,
   "id": "9d4793a0-faac-4759-a56e-40303c9437e5",
   "metadata": {},
   "outputs": [],
   "source": [
    "import pandas as pd\n",
    "import numpy as np"
   ]
  },
  {
   "cell_type": "markdown",
   "id": "b6b1c626-ed77-4bb0-be9c-cc2212ae07a4",
   "metadata": {},
   "source": [
    "# Data "
   ]
  },
  {
   "cell_type": "code",
   "execution_count": 66,
   "id": "c636f993-d0f7-4ea2-9c86-90e9ce0fefb3",
   "metadata": {},
   "outputs": [],
   "source": [
    "data = {\n",
    "    'Spaceman': [4, 3, np.nan, 5, 4],  \n",
    "    'Codes': [5, 4, 3, 4, 4],\n",
    "    'Codes Part II': [3, 3, 4, 4, 3],  \n",
    "    'Noah': [2, np.nan, 3, 3, 2],  # \n",
    "    'Mea Culpa': [np.nan, 4, 5, 4, 5],\n",
    "    'Fear': [4, 3, 2, 2, 3]  \n",
    "}"
   ]
  },
  {
   "cell_type": "markdown",
   "id": "affbbb9c-6a2c-4af7-86a2-8a83a4486def",
   "metadata": {},
   "source": [
    "# Index labels for our DataFrame"
   ]
  },
  {
   "cell_type": "code",
   "execution_count": 67,
   "id": "16e87f45-0037-4cf6-b782-f52a4b03b376",
   "metadata": {},
   "outputs": [],
   "source": [
    "index_labels = ['Patrick', 'Sharon', 'Elicia', 'Tony', 'Mae']"
   ]
  },
  {
   "cell_type": "markdown",
   "id": "5b5c3823-37d2-4e9e-b646-db067a835967",
   "metadata": {},
   "source": [
    "# Create DataFrame"
   ]
  },
  {
   "cell_type": "code",
   "execution_count": 68,
   "id": "b2235a9b-28e7-4cf5-9abf-01e436fefeb9",
   "metadata": {},
   "outputs": [],
   "source": [
    "ratings_df = pd.DataFrame(data, index=index_labels)"
   ]
  },
  {
   "cell_type": "markdown",
   "id": "229af5f1-c07f-4874-b309-b3ff4686d5af",
   "metadata": {},
   "source": [
    "# Display the DataFrame"
   ]
  },
  {
   "cell_type": "code",
   "execution_count": 69,
   "id": "271c55f0-451b-4473-95d0-fc34f6c4afdc",
   "metadata": {},
   "outputs": [
    {
     "name": "stdout",
     "output_type": "stream",
     "text": [
      "Original Ratings Data:\n",
      "         Spaceman  Codes  Codes Part II  Noah  Mea Culpa  Fear\n",
      "Patrick       4.0      5              3   2.0        NaN     4\n",
      "Sharon        3.0      4              3   NaN        4.0     3\n",
      "Elicia        NaN      3              4   3.0        5.0     2\n",
      "Tony          5.0      4              4   3.0        4.0     2\n",
      "Mae           4.0      4              3   2.0        5.0     3\n",
      "\n"
     ]
    }
   ],
   "source": [
    "print(\"Original Ratings Data:\")\n",
    "print(ratings_df)\n",
    "print()"
   ]
  },
  {
   "cell_type": "markdown",
   "id": "f7aa4971-a203-416c-8184-487c81e0f3af",
   "metadata": {},
   "source": [
    "# Calculate average ratings for each user and each movie"
   ]
  },
  {
   "cell_type": "code",
   "execution_count": 70,
   "id": "764d857d-7433-476d-934f-a8a161611e69",
   "metadata": {},
   "outputs": [],
   "source": [
    "avg_ratings_by_user = ratings_df.mean(axis=1)\n",
    "avg_ratings_by_movie = ratings_df.mean()"
   ]
  },
  {
   "cell_type": "markdown",
   "id": "a11afc94-58e7-4d50-ae8b-3a7fa1a6dc50",
   "metadata": {},
   "source": [
    "# Display average ratings"
   ]
  },
  {
   "cell_type": "code",
   "execution_count": 71,
   "id": "44d883d4-bc3d-4fad-8640-b58bcd067968",
   "metadata": {},
   "outputs": [
    {
     "name": "stdout",
     "output_type": "stream",
     "text": [
      "Average Ratings by User:\n",
      "Patrick    3.600000\n",
      "Sharon     3.400000\n",
      "Elicia     3.400000\n",
      "Tony       3.666667\n",
      "Mae        3.500000\n",
      "dtype: float64\n",
      "\n",
      "Average Ratings by Movie:\n",
      "Spaceman         4.0\n",
      "Codes            4.0\n",
      "Codes Part II    3.4\n",
      "Noah             2.5\n",
      "Mea Culpa        4.5\n",
      "Fear             2.8\n",
      "dtype: float64\n",
      "\n"
     ]
    }
   ],
   "source": [
    "print(\"Average Ratings by User:\")\n",
    "print(avg_ratings_by_user)\n",
    "print(\"\\nAverage Ratings by Movie:\")\n",
    "print(avg_ratings_by_movie)\n",
    "print()"
   ]
  },
  {
   "cell_type": "markdown",
   "id": "6fde06e7-3916-4ab2-ad83-d9727be10d67",
   "metadata": {},
   "source": [
    "# Normalize ratings"
   ]
  },
  {
   "cell_type": "code",
   "execution_count": 72,
   "id": "1f6c8666-61b5-475a-9c4e-3dfc270dc554",
   "metadata": {},
   "outputs": [],
   "source": [
    "normalized_ratings_df = (ratings_df - ratings_df.min()) / (ratings_df.max() - ratings_df.min())"
   ]
  },
  {
   "cell_type": "markdown",
   "id": "48daf9cc-9404-4e2d-8e1f-9647e35fcbf6",
   "metadata": {},
   "source": [
    "# Display normalized ratings"
   ]
  },
  {
   "cell_type": "code",
   "execution_count": 73,
   "id": "cff4d357-f926-4711-ad8a-979720082e08",
   "metadata": {},
   "outputs": [
    {
     "name": "stdout",
     "output_type": "stream",
     "text": [
      "Normalized Ratings:\n",
      "         Spaceman  Codes  Codes Part II  Noah  Mea Culpa  Fear\n",
      "Patrick       0.5    1.0            0.0   0.0        NaN   1.0\n",
      "Sharon        0.0    0.5            0.0   NaN        0.0   0.5\n",
      "Elicia        NaN    0.0            1.0   1.0        1.0   0.0\n",
      "Tony          1.0    0.5            1.0   1.0        0.0   0.0\n",
      "Mae           0.5    0.5            0.0   0.0        1.0   0.5\n",
      "\n"
     ]
    }
   ],
   "source": [
    "print(\"Normalized Ratings:\")\n",
    "print(normalized_ratings_df)\n",
    "print()"
   ]
  },
  {
   "cell_type": "markdown",
   "id": "aeb02488-e6b2-43d9-bb3e-9369e5538770",
   "metadata": {},
   "source": [
    "# Calculate average normalized ratings for each user and each movie"
   ]
  },
  {
   "cell_type": "code",
   "execution_count": 74,
   "id": "6143d9bf-1857-43ee-a158-3dbd3aa8a8ab",
   "metadata": {},
   "outputs": [],
   "source": [
    "avg_normalized_ratings_by_user = normalized_ratings_df.mean(axis=1)\n",
    "avg_normalized_ratings_by_movie = normalized_ratings_df.mean()"
   ]
  },
  {
   "cell_type": "markdown",
   "id": "89eada2a-1ea4-4ccb-b317-413f802ff2ec",
   "metadata": {},
   "source": [
    "# Display average normalized ratings"
   ]
  },
  {
   "cell_type": "code",
   "execution_count": 75,
   "id": "17a3ac52-b3d3-4639-b9ce-2effa1adac80",
   "metadata": {},
   "outputs": [
    {
     "name": "stdout",
     "output_type": "stream",
     "text": [
      "Average Normalized Ratings by User:\n",
      "Patrick    0.500000\n",
      "Sharon     0.200000\n",
      "Elicia     0.600000\n",
      "Tony       0.583333\n",
      "Mae        0.416667\n",
      "dtype: float64\n",
      "\n",
      "Average Normalized Ratings by Movie:\n",
      "Spaceman         0.5\n",
      "Codes            0.5\n",
      "Codes Part II    0.4\n",
      "Noah             0.5\n",
      "Mea Culpa        0.5\n",
      "Fear             0.4\n",
      "dtype: float64\n",
      "\n"
     ]
    }
   ],
   "source": [
    "print(\"Average Normalized Ratings by User:\")\n",
    "print(avg_normalized_ratings_by_user)\n",
    "print(\"\\nAverage Normalized Ratings by Movie:\")\n",
    "print(avg_normalized_ratings_by_movie)\n",
    "print()\n"
   ]
  },
  {
   "cell_type": "markdown",
   "id": "850ab2a7-167d-418c-9e98-a98783b65f0d",
   "metadata": {},
   "source": [
    "# Conclusion\n",
    "\n",
    "Advantages of using normalized ratings:\n",
    "- Allows for fairer comparison across users with different rating scales.\n",
    "- Reduces bias introduced by users who tend to rate everything high or low.\n",
    "\n",
    "Disadvantages of using normalized ratings:\n",
    "- May lose some information present in the original ratings.\n",
    "- Assumes that the ratings are on the same underlying scale, which might not always be true."
   ]
  }
 ],
 "metadata": {
  "kernelspec": {
   "display_name": "Python 3 (ipykernel)",
   "language": "python",
   "name": "python3"
  },
  "language_info": {
   "codemirror_mode": {
    "name": "ipython",
    "version": 3
   },
   "file_extension": ".py",
   "mimetype": "text/x-python",
   "name": "python",
   "nbconvert_exporter": "python",
   "pygments_lexer": "ipython3",
   "version": "3.12.1"
  }
 },
 "nbformat": 4,
 "nbformat_minor": 5
}
