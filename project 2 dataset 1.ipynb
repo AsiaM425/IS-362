{
 "cells": [
  {
   "cell_type": "code",
   "execution_count": 1,
   "id": "a3dafda6-9889-4698-baea-a67a696934a9",
   "metadata": {},
   "outputs": [],
   "source": [
    "import pandas as pd"
   ]
  },
  {
   "cell_type": "markdown",
   "id": "1b60484d-4789-4616-a1c2-e62a9377de18",
   "metadata": {},
   "source": [
    "# Data Tidying and Transformation\n",
    "In this section, we will tidy up the untidy dataset provided, reshaping it from a wide format to a long format using pandas.\n"
   ]
  },
  {
   "cell_type": "code",
   "execution_count": 2,
   "id": "c0544e40-aeca-491c-813b-14e296b0f348",
   "metadata": {},
   "outputs": [],
   "source": [
    "data = {\n",
    "    'STUDENT ID': ['001', '002', '003'],\n",
    "    'MATH GRADE': [90, 75, 88],\n",
    "    'SCIENCE GRADE': [85, 92, 78],\n",
    "    'HISTORY GRADE': [88, 80, 85]\n",
    "}\n",
    "\n",
    "df = pd.DataFrame(data)\n"
   ]
  },
  {
   "cell_type": "markdown",
   "id": "bc1a2c66-b98a-49c6-a4c8-42ab4a7e1663",
   "metadata": {},
   "source": [
    "# Tidying up the dataset"
   ]
  },
  {
   "cell_type": "code",
   "execution_count": 3,
   "id": "95f333c2-8a15-4e1e-975b-3d823d18cad6",
   "metadata": {},
   "outputs": [],
   "source": [
    "tidy_df = pd.melt(df, id_vars='STUDENT ID', var_name='Subject', value_name='Grade')"
   ]
  },
  {
   "cell_type": "markdown",
   "id": "d70a4b2f-3b2d-446e-8e64-071610730be2",
   "metadata": {},
   "source": [
    "# Displaying the tidy dataset"
   ]
  },
  {
   "cell_type": "code",
   "execution_count": 4,
   "id": "8d70cdb0-6d13-4b99-9955-216e49e1858c",
   "metadata": {},
   "outputs": [
    {
     "name": "stdout",
     "output_type": "stream",
     "text": [
      "Tidy Dataset:\n",
      "  STUDENT ID        Subject  Grade\n",
      "0        001     MATH GRADE     90\n",
      "1        002     MATH GRADE     75\n",
      "2        003     MATH GRADE     88\n",
      "3        001  SCIENCE GRADE     85\n",
      "4        002  SCIENCE GRADE     92\n",
      "5        003  SCIENCE GRADE     78\n",
      "6        001  HISTORY GRADE     88\n",
      "7        002  HISTORY GRADE     80\n",
      "8        003  HISTORY GRADE     85\n"
     ]
    }
   ],
   "source": [
    "print(\"Tidy Dataset:\")\n",
    "print(tidy_df)"
   ]
  },
  {
   "cell_type": "markdown",
   "id": "1c2f587b-aa3f-4852-ab36-2bbc4d545bb3",
   "metadata": {},
   "source": [
    "# Analysis\n",
    "After tidying up the dataset, we will perform analysis on the tidy dataset. This includes calculating summary statistics for each subject, such as mean, median, minimum, and maximum grades.\n"
   ]
  },
  {
   "cell_type": "code",
   "execution_count": 5,
   "id": "6ab312e6-e1ff-43ef-913a-0c90d99d5222",
   "metadata": {},
   "outputs": [
    {
     "name": "stdout",
     "output_type": "stream",
     "text": [
      "\n",
      "Summary Statistics:\n",
      "                    mean  median  min  max\n",
      "Subject                                   \n",
      "HISTORY GRADE  84.333333    85.0   80   88\n",
      "MATH GRADE     84.333333    88.0   75   90\n",
      "SCIENCE GRADE  85.000000    85.0   78   92\n"
     ]
    }
   ],
   "source": [
    "summary_stats = tidy_df.groupby('Subject')['Grade'].agg(['mean', 'median', 'min', 'max'])\n",
    "\n",
    "print(\"\\nSummary Statistics:\")\n",
    "print(summary_stats)"
   ]
  }
 ],
 "metadata": {
  "kernelspec": {
   "display_name": "Python 3 (ipykernel)",
   "language": "python",
   "name": "python3"
  },
  "language_info": {
   "codemirror_mode": {
    "name": "ipython",
    "version": 3
   },
   "file_extension": ".py",
   "mimetype": "text/x-python",
   "name": "python",
   "nbconvert_exporter": "python",
   "pygments_lexer": "ipython3",
   "version": "3.12.1"
  }
 },
 "nbformat": 4,
 "nbformat_minor": 5
}
