{
 "cells": [
  {
   "cell_type": "markdown",
   "id": "1bebd574-2fb1-451d-bced-ed12cbda3c66",
   "metadata": {},
   "source": [
    "# Airline Arrival Delays Analysis\n",
    "\n",
    "In this analysis, we compare the arrival delays between two airlines, ALASKA and AMWEST, across five different destinations.\n"
   ]
  },
  {
   "cell_type": "code",
   "execution_count": 15,
   "id": "fb8e78ce-17ca-4f4e-847b-6a4b8d1a0241",
   "metadata": {},
   "outputs": [],
   "source": [
    "import pandas as pd\n"
   ]
  },
  {
   "cell_type": "markdown",
   "id": "c69dc827-2060-44cd-b584-99d0a1744244",
   "metadata": {},
   "source": [
    "## Data Loading\n",
    "\n",
    "First, we load the data from the CSV file into a pandas DataFrame.\n"
   ]
  },
  {
   "cell_type": "code",
   "execution_count": 16,
   "id": "c54aa9a3-e28f-448f-838e-05c191a3a078",
   "metadata": {},
   "outputs": [
    {
     "data": {
      "text/html": [
       "<div>\n",
       "<style scoped>\n",
       "    .dataframe tbody tr th:only-of-type {\n",
       "        vertical-align: middle;\n",
       "    }\n",
       "\n",
       "    .dataframe tbody tr th {\n",
       "        vertical-align: top;\n",
       "    }\n",
       "\n",
       "    .dataframe thead th {\n",
       "        text-align: right;\n",
       "    }\n",
       "</style>\n",
       "<table border=\"1\" class=\"dataframe\">\n",
       "  <thead>\n",
       "    <tr style=\"text-align: right;\">\n",
       "      <th></th>\n",
       "      <th>Airline</th>\n",
       "      <th>Status</th>\n",
       "      <th>Los Angeles</th>\n",
       "      <th>Phoenix</th>\n",
       "      <th>San Diego</th>\n",
       "      <th>San Francisco</th>\n",
       "      <th>Seattle</th>\n",
       "    </tr>\n",
       "  </thead>\n",
       "  <tbody>\n",
       "    <tr>\n",
       "      <th>0</th>\n",
       "      <td>ALASKA</td>\n",
       "      <td>on time</td>\n",
       "      <td>497</td>\n",
       "      <td>221</td>\n",
       "      <td>212</td>\n",
       "      <td>503</td>\n",
       "      <td>1841</td>\n",
       "    </tr>\n",
       "    <tr>\n",
       "      <th>1</th>\n",
       "      <td>ALASKA</td>\n",
       "      <td>delayed</td>\n",
       "      <td>62</td>\n",
       "      <td>12</td>\n",
       "      <td>20</td>\n",
       "      <td>102</td>\n",
       "      <td>305</td>\n",
       "    </tr>\n",
       "    <tr>\n",
       "      <th>2</th>\n",
       "      <td>AMWEST</td>\n",
       "      <td>on time</td>\n",
       "      <td>694</td>\n",
       "      <td>4840</td>\n",
       "      <td>383</td>\n",
       "      <td>320</td>\n",
       "      <td>201</td>\n",
       "    </tr>\n",
       "    <tr>\n",
       "      <th>3</th>\n",
       "      <td>AMWEST</td>\n",
       "      <td>delayed</td>\n",
       "      <td>117</td>\n",
       "      <td>415</td>\n",
       "      <td>65</td>\n",
       "      <td>129</td>\n",
       "      <td>61</td>\n",
       "    </tr>\n",
       "  </tbody>\n",
       "</table>\n",
       "</div>"
      ],
      "text/plain": [
       "  Airline   Status  Los Angeles  Phoenix  San Diego  San Francisco  Seattle\n",
       "0  ALASKA  on time          497      221        212            503     1841\n",
       "1  ALASKA  delayed           62       12         20            102      305\n",
       "2  AMWEST  on time          694     4840        383            320      201\n",
       "3  AMWEST  delayed          117      415         65            129       61"
      ]
     },
     "execution_count": 16,
     "metadata": {},
     "output_type": "execute_result"
    }
   ],
   "source": [
    "# Load the data into a pandas DataFrame\n",
    "df = pd.read_csv('/Users/asiamobley/Downloads/arrival_delays.csv')\n",
    "df.head()\n"
   ]
  },
  {
   "cell_type": "markdown",
   "id": "11c62ede-7866-4628-a5cc-fd1beda8d122",
   "metadata": {},
   "source": [
    "## Total and Delayed Flights\n",
    "\n",
    "We calculate the total number of flights and the total number of delayed flights for each airline.\n"
   ]
  },
  {
   "cell_type": "code",
   "execution_count": 17,
   "id": "0377c34b-b383-49bd-ad4f-ad36ac247663",
   "metadata": {},
   "outputs": [],
   "source": [
    "total_flights = df[df['Status'] == 'on time'].groupby('Airline')[['Los Angeles', 'Phoenix', 'San Diego', 'San Francisco', 'Seattle']].sum()\n",
    "total_delayed = df[df['Status'] == 'delayed'].groupby('Airline')[['Los Angeles', 'Phoenix', 'San Diego', 'San Francisco', 'Seattle']].sum()\n",
    "\n"
   ]
  },
  {
   "cell_type": "markdown",
   "id": "101ede35-7d6f-446f-aa84-5251bacc669c",
   "metadata": {},
   "source": [
    "## Delay Percentage Calculation\n",
    "\n",
    "Next, we calculate the delay percentage for each airline, which is the number of delayed flights divided by the total flights.\n"
   ]
  },
  {
   "cell_type": "code",
   "execution_count": 18,
   "id": "321b1f44-b18b-431d-a619-99a55bcda0b9",
   "metadata": {},
   "outputs": [],
   "source": [
    "# Calculate the delay percentage\n",
    "delay_percentage = (total_delayed / total_flights) * 100\n"
   ]
  },
  {
   "cell_type": "markdown",
   "id": "bad7567b-e1fd-49dd-9947-8055b57e829e",
   "metadata": {},
   "source": [
    "## Results\n",
    "\n",
    "Finally, we present the results of our analysis, showing the total number of flights, total number of delayed flights, and the delay percentage for each airline.\n"
   ]
  },
  {
   "cell_type": "code",
   "execution_count": 19,
   "id": "f5308bae-9f1d-4d76-bd62-34a804725a0f",
   "metadata": {},
   "outputs": [
    {
     "name": "stdout",
     "output_type": "stream",
     "text": [
      "Total flights by each airline:\n",
      " Airline\n",
      "ALASKA    3274\n",
      "AMWEST    6438\n",
      "dtype: int64\n",
      "\n",
      "Total delayed flights by each airline:\n",
      " Airline\n",
      "ALASKA    501\n",
      "AMWEST    787\n",
      "dtype: int64\n",
      "\n",
      "Delay percentage for each airline:\n",
      " Airline\n",
      "ALASKA     64.184089\n",
      "AMWEST    113.065208\n",
      "dtype: float64\n"
     ]
    }
   ],
   "source": [
    "# Display the results\n",
    "print(\"Total flights by each airline:\\n\", total_flights.sum(axis=1))\n",
    "print(\"\\nTotal delayed flights by each airline:\\n\", total_delayed.sum(axis=1))\n",
    "print(\"\\nDelay percentage for each airline:\\n\", delay_percentage.sum(axis=1))\n"
   ]
  },
  {
   "cell_type": "markdown",
   "id": "d86d5a68-1b09-4dd2-b9ca-255c193e5d3b",
   "metadata": {},
   "source": [
    "## Conclusion\n",
    "\n",
    "From the analysis, we can conclude the following:\n",
    "\n",
    "- **Alaska** has a lower percentage of delays across all destinations compared to AMWEST.\n",
    "- The destination with the highest delay percentage for Alaska is San Francisco, while for AMWEST, it is also San Francisco.\n",
    "- Despite having a higher total number of flights, AMWEST has a higher proportion of delays compared to Alaska.\n",
    "\n",
    "This kind of analysis can help in making decisions related to improving airline efficiency and customer satisfaction.\n"
   ]
  }
 ],
 "metadata": {
  "kernelspec": {
   "display_name": "Python 3 (ipykernel)",
   "language": "python",
   "name": "python3"
  },
  "language_info": {
   "codemirror_mode": {
    "name": "ipython",
    "version": 3
   },
   "file_extension": ".py",
   "mimetype": "text/x-python",
   "name": "python",
   "nbconvert_exporter": "python",
   "pygments_lexer": "ipython3",
   "version": "3.12.1"
  }
 },
 "nbformat": 4,
 "nbformat_minor": 5
}
