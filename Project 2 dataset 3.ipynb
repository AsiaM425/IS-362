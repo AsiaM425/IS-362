{
 "cells": [
  {
   "cell_type": "code",
   "execution_count": 1,
   "id": "636d751d-e3d1-4953-aeba-d30c6420093d",
   "metadata": {},
   "outputs": [],
   "source": [
    "import pandas as pd"
   ]
  },
  {
   "cell_type": "markdown",
   "id": "ab165856-38c0-4143-ac16-94af57279bbc",
   "metadata": {},
   "source": [
    "# Employee Information"
   ]
  },
  {
   "cell_type": "markdown",
   "id": "401db119-5567-4268-9991-6283e6e1f605",
   "metadata": {},
   "source": [
    "# Data Tyding and Transformation\n",
    "In this section, we will tidy up the untidy Employee information dataset provided, reshaping it from a wide format to a long format using pandas."
   ]
  },
  {
   "cell_type": "markdown",
   "id": "5d57317b-5784-4de9-af86-38d99a4c9c2a",
   "metadata": {},
   "source": [
    "# Creating the untidy dataset"
   ]
  },
  {
   "cell_type": "code",
   "execution_count": 2,
   "id": "33c540e8-5bbf-460c-bb98-6917b8e4ec7c",
   "metadata": {},
   "outputs": [],
   "source": [
    "data = {\n",
    "    'Employee ID': ['001', '002', '003'],\n",
    "    'Name': ['Alice', 'Bob', 'Charlie'],\n",
    "    'Department': ['HR', 'IT', 'Sales'],\n",
    "    'Salary': [50000, 60000, 55000]\n",
    "}\n",
    "\n",
    "df = pd.DataFrame(data)"
   ]
  },
  {
   "cell_type": "markdown",
   "id": "3f16e762-7407-4efe-a984-6f19b9c2cbe7",
   "metadata": {},
   "source": [
    "# Analysis\n",
    "In this section, we will perform analysis on the employee information dataset. This includes calculating the average salary for each department and identifying the employee with the highest salary.\n"
   ]
  },
  {
   "cell_type": "code",
   "execution_count": 3,
   "id": "b355431c-3ea4-4787-9da1-87605fcefba3",
   "metadata": {},
   "outputs": [
    {
     "name": "stdout",
     "output_type": "stream",
     "text": [
      "\n",
      "Average Salary for Each Department:\n",
      "Department\n",
      "HR       50000.0\n",
      "IT       60000.0\n",
      "Sales    55000.0\n",
      "Name: Salary, dtype: float64\n",
      "\n",
      "Employee with the Highest Salary:\n",
      "Employee ID      002\n",
      "Name             Bob\n",
      "Department        IT\n",
      "Salary         60000\n",
      "Name: 1, dtype: object\n"
     ]
    }
   ],
   "source": [
    "avg_salary_per_department = df.groupby('Department')['Salary'].mean()\n",
    "highest_salary_employee = df.loc[df['Salary'].idxmax()]\n",
    "\n",
    "print(\"\\nAverage Salary for Each Department:\")\n",
    "print(avg_salary_per_department)\n",
    "\n",
    "print(\"\\nEmployee with the Highest Salary:\")\n",
    "print(highest_salary_employee)\n"
   ]
  }
 ],
 "metadata": {
  "kernelspec": {
   "display_name": "Python 3 (ipykernel)",
   "language": "python",
   "name": "python3"
  },
  "language_info": {
   "codemirror_mode": {
    "name": "ipython",
    "version": 3
   },
   "file_extension": ".py",
   "mimetype": "text/x-python",
   "name": "python",
   "nbconvert_exporter": "python",
   "pygments_lexer": "ipython3",
   "version": "3.12.1"
  }
 },
 "nbformat": 4,
 "nbformat_minor": 5
}
