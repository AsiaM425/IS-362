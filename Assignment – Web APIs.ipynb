{
 "cells": [
  {
   "cell_type": "code",
   "execution_count": 1,
   "id": "0e83a3e2-3153-44ef-a9f7-223064c233d6",
   "metadata": {},
   "outputs": [],
   "source": [
    "import requests\n",
    "import pandas as pd"
   ]
  },
  {
   "cell_type": "markdown",
   "id": "05853aca-ba77-40dd-aeba-1256342bebbe",
   "metadata": {},
   "source": [
    "# Define API key"
   ]
  },
  {
   "cell_type": "code",
   "execution_count": 2,
   "id": "3fe854ab-f6ff-4806-9315-61d99dd7932a",
   "metadata": {},
   "outputs": [],
   "source": [
    "api_key = \"4GtWHy0or7iWlTXVJGJuCWAQTdgHaoIc\""
   ]
  },
  {
   "cell_type": "markdown",
   "id": "c1ee63d3-2a58-4b51-86cd-e4b0b6f70f75",
   "metadata": {},
   "source": [
    "# Define the base URL for the Books API"
   ]
  },
  {
   "cell_type": "code",
   "execution_count": 3,
   "id": "c82b54a2-285d-480a-9084-92923d1b6164",
   "metadata": {},
   "outputs": [],
   "source": [
    "base_url = \"https://api.nytimes.com/svc/books/v3\""
   ]
  },
  {
   "cell_type": "markdown",
   "id": "1f78a372-d63d-4d59-bf66-4a754ac9eb2a",
   "metadata": {},
   "source": [
    "# Define function to fetch best sellers list data"
   ]
  },
  {
   "cell_type": "code",
   "execution_count": 4,
   "id": "571912f6-edc7-4df6-a7ba-d9e149a089c7",
   "metadata": {},
   "outputs": [],
   "source": [
    "def fetch_best_sellers_list(date, list_name):\n",
    "    \"\"\"\n",
    "    Fetches data for a specific NYT Best Sellers list for a given date.\n",
    "\n",
    "    Args:\n",
    "        date (str): The date for the best sellers list in the format \"YYYY-MM-DD\" or \"current\".\n",
    "        list_name (str): The name of the best sellers list.\n",
    "\n",
    "    Returns:\n",
    "        list: List of books on the specified best sellers list.\n",
    "    \"\"\"\n",
    "    url = f\"{base_url}/lists/{date}/{list_name}.json\"\n",
    "    params = {\"api-key\": api_key}\n",
    "    response = requests.get(url, params=params)\n",
    "    data = response.json()\n",
    "    return data[\"results\"][\"books\"]\n"
   ]
  },
  {
   "cell_type": "markdown",
   "id": "1638539f-b864-4832-bb82-3aa0ffbca9d4",
   "metadata": {},
   "source": [
    "# Define function to fetch book reviews"
   ]
  },
  {
   "cell_type": "code",
   "execution_count": 5,
   "id": "4bfdc36e-e5e5-424d-9715-3fdd60141387",
   "metadata": {},
   "outputs": [],
   "source": [
    "def fetch_book_reviews_by_author(author):\n",
    "    \"\"\"\n",
    "    Fetches book reviews by a specific author.\n",
    "\n",
    "    Args:\n",
    "        author (str): The author's name.\n",
    "\n",
    "    Returns:\n",
    "        list: List of book reviews by the specified author.\n",
    "    \"\"\"\n",
    "    url = f\"{base_url}/reviews.json\"\n",
    "    params = {\"author\": author, \"api-key\": api_key}\n",
    "    response = requests.get(url, params=params)\n",
    "    data = response.json()\n",
    "    return data[\"results\"]\n"
   ]
  },
  {
   "cell_type": "markdown",
   "id": "7df50399-efe7-45da-9633-dc27ec27ad82",
   "metadata": {},
   "source": [
    "# Define function to transform data into pandas DataFrame# Define function to transform data into pandas DataFrame"
   ]
  },
  {
   "cell_type": "code",
   "execution_count": 6,
   "id": "8a742c5f-4307-4fb5-9841-1e31712b1d73",
   "metadata": {},
   "outputs": [],
   "source": [
    "def transform_to_dataframe(data):\n",
    "    \"\"\"\n",
    "    Transforms JSON data into a pandas DataFrame.\n",
    "\n",
    "    Args:\n",
    "        data (list): List of dictionaries representing the JSON data.\n",
    "\n",
    "    Returns:\n",
    "        pandas.DataFrame: DataFrame containing the transformed data.\n",
    "    \"\"\"\n",
    "    return pd.DataFrame(data)\n"
   ]
  },
  {
   "cell_type": "markdown",
   "id": "4bb58d25-6380-4fd5-8bdd-954dcdcc0801",
   "metadata": {},
   "source": [
    "# Example usage:\n",
    "# Fetch best sellers list data for current date and list name \"hardcover-fiction\""
   ]
  },
  {
   "cell_type": "code",
   "execution_count": 7,
   "id": "ddae57f1-4f50-4c69-b22d-b98b4e5269e3",
   "metadata": {},
   "outputs": [],
   "source": [
    "best_sellers_data = fetch_best_sellers_list(\"current\", \"hardcover-fiction\")\n"
   ]
  },
  {
   "cell_type": "markdown",
   "id": "02f501e0-97c6-451d-bed1-f89b864bf3c9",
   "metadata": {},
   "source": [
    "# Fetch book reviews by author \"Stephen King\""
   ]
  },
  {
   "cell_type": "code",
   "execution_count": 8,
   "id": "656ad6d4-4e82-4e83-9875-1a05d1033afc",
   "metadata": {},
   "outputs": [],
   "source": [
    "book_reviews_data = fetch_book_reviews_by_author(\"Stephen King\")"
   ]
  },
  {
   "cell_type": "markdown",
   "id": "634beb41-8f88-4fc2-82c2-bb835be17622",
   "metadata": {},
   "source": [
    "# Transform data into pandas DataFrame"
   ]
  },
  {
   "cell_type": "code",
   "execution_count": 9,
   "id": "97f9d89d-028b-4b7f-9237-115ed5f32424",
   "metadata": {},
   "outputs": [],
   "source": [
    "best_sellers_df = transform_to_dataframe(best_sellers_data)\n",
    "book_reviews_df = transform_to_dataframe(book_reviews_data)\n"
   ]
  },
  {
   "cell_type": "markdown",
   "id": "bb2c5d09-17fa-41fe-87d5-d50541bbe4d8",
   "metadata": {},
   "source": [
    "# Print the DataFrames"
   ]
  },
  {
   "cell_type": "code",
   "execution_count": 10,
   "id": "2c02d527-8b2a-4524-b8e7-136cb53d81fc",
   "metadata": {},
   "outputs": [
    {
     "name": "stdout",
     "output_type": "stream",
     "text": [
      "Best Sellers DataFrame:\n",
      "    rank  rank_last_week  weeks_on_list  asterisk  dagger primary_isbn10  \\\n",
      "0      1               1             10         0       0     1250178630   \n",
      "1      2               0              1         0       0     125088425X   \n",
      "2      3               3             49         0       0     1649374046   \n",
      "3      4               0              1         0       0     0593714490   \n",
      "4      5               4             23         0       0     1649374178   \n",
      "5      6               2              2         0       0     0593296370   \n",
      "6      7               5              4         0       0     0385550367   \n",
      "7      8              11              7         0       0     0593599837   \n",
      "8      9              14             11         0       0     1635574102   \n",
      "9     10               6              4         0       0     0316499676   \n",
      "10    11              10             46         0       0     0063204150   \n",
      "11    12              13             15         0       0     0593492919   \n",
      "12    13               7             34         0       0     0593422945   \n",
      "13    14               0              1         0       0     0316435295   \n",
      "14    15               0              1         0       0     1668010445   \n",
      "\n",
      "   primary_isbn13           publisher  \\\n",
      "0   9781250178633        St. Martin's   \n",
      "1   9781250884251            Flatiron   \n",
      "2   9781649374042           Red Tower   \n",
      "3   9780593714492              Putnam   \n",
      "4   9781649374172           Red Tower   \n",
      "5   9780593296370              Viking   \n",
      "6   9780385550369           Doubleday   \n",
      "7   9780593599839             Del Rey   \n",
      "8   9781635574104          Bloomsbury   \n",
      "9   9780316499675       Little, Brown   \n",
      "10  9780063204157                Ecco   \n",
      "11  9780593492918       Pamela Dorman   \n",
      "12  9780593422946           Riverhead   \n",
      "13  9780316435291               Orbit   \n",
      "14  9781668010440  S&S/ Marysue Rucci   \n",
      "\n",
      "                                          description price  ...  \\\n",
      "0   In 1965, a nursing student follows her brother...  0.00  ...   \n",
      "1   Luzia Cotado encounters dangers when her magic...  0.00  ...   \n",
      "2   Violet Sorrengail is urged by the commanding g...  0.00  ...   \n",
      "3   The 34th book in the Prey series. Letty and Lu...  0.00  ...   \n",
      "4   The second book in the Empyrean series. Violet...  0.00  ...   \n",
      "5   A collection of six short stories based in New...  0.00  ...   \n",
      "6   A reimagining of “Adventures of Huckleberry Fi...  0.00  ...   \n",
      "7   After the secret of her magic to repel attacks...  0.00  ...   \n",
      "8   The third book in the Crescent City series. Br...  0.00  ...   \n",
      "9   A criminal defense attorney in Biloxi becomes ...  0.00  ...   \n",
      "10  A widow working the night shift at the Sowell ...  0.00  ...   \n",
      "11  A woman who works for a mysterious boss takes ...  0.00  ...   \n",
      "12  Secrets held by the residents of a dilapidated...  0.00  ...   \n",
      "13  The second book in the Nightshade Crown series...  0.00  ...   \n",
      "14  The daughter of a local detective inherits her...  0.00  ...   \n",
      "\n",
      "   book_image_height                                 amazon_product_url  \\\n",
      "0                500  https://www.amazon.com/dp/1250178630?tag=thene...   \n",
      "1                500  https://www.amazon.com/dp/125088425X?tag=thene...   \n",
      "2                500  https://www.amazon.com/dp/1649374046?tag=thene...   \n",
      "3                500  https://www.amazon.com/dp/0593714490?tag=thene...   \n",
      "4                500  https://www.amazon.com/dp/1649374178?tag=thene...   \n",
      "5                500  https://www.amazon.com/dp/0593296370?tag=thene...   \n",
      "6                500  https://www.amazon.com/dp/0385550367?tag=thene...   \n",
      "7                500  https://www.amazon.com/dp/0593599837?tag=thene...   \n",
      "8                500  https://www.amazon.com/dp/1635574102?tag=thene...   \n",
      "9                500  https://www.amazon.com/dp/0316499676?tag=thene...   \n",
      "10               500  https://www.amazon.com/dp/0063204150?tag=thene...   \n",
      "11               500  https://www.amazon.com/dp/0593492919?tag=thene...   \n",
      "12               500  https://www.amazon.com/dp/0593422945?tag=thene...   \n",
      "13               500  https://www.amazon.com/dp/0316435295?tag=thene...   \n",
      "14               500  https://www.amazon.com/dp/1668010445?tag=thene...   \n",
      "\n",
      "   age_group book_review_link first_chapter_link  sunday_review_link  \\\n",
      "0                                                                      \n",
      "1                                                                      \n",
      "2                                                                      \n",
      "3                                                                      \n",
      "4                                                                      \n",
      "5                                                                      \n",
      "6                                                                      \n",
      "7                                                                      \n",
      "8                                                                      \n",
      "9                                                                      \n",
      "10                                                                     \n",
      "11                                                                     \n",
      "12                                                                     \n",
      "13                                                                     \n",
      "14                                                                     \n",
      "\n",
      "    article_chapter_link                                              isbns  \\\n",
      "0                         [{'isbn10': '1250178630', 'isbn13': '978125017...   \n",
      "1                         [{'isbn10': '125088425X', 'isbn13': '978125088...   \n",
      "2                         [{'isbn10': '1649374046', 'isbn13': '978164937...   \n",
      "3                         [{'isbn10': '0593714490', 'isbn13': '978059371...   \n",
      "4                         [{'isbn10': '1649374178', 'isbn13': '978164937...   \n",
      "5                         [{'isbn10': '0593296370', 'isbn13': '978059329...   \n",
      "6                         [{'isbn10': '0385550367', 'isbn13': '978038555...   \n",
      "7                         [{'isbn10': '0593599837', 'isbn13': '978059359...   \n",
      "8                         [{'isbn10': '1635574102', 'isbn13': '978163557...   \n",
      "9                         [{'isbn10': '0316499676', 'isbn13': '978031649...   \n",
      "10                        [{'isbn10': '0063204150', 'isbn13': '978006320...   \n",
      "11                        [{'isbn10': '0593492919', 'isbn13': '978059349...   \n",
      "12                        [{'isbn10': '0593422945', 'isbn13': '978059342...   \n",
      "13                        [{'isbn10': '0316435295', 'isbn13': '978031643...   \n",
      "14                        [{'isbn10': '1668010445', 'isbn13': '978166801...   \n",
      "\n",
      "                                            buy_links  \\\n",
      "0   [{'name': 'Amazon', 'url': 'https://www.amazon...   \n",
      "1   [{'name': 'Amazon', 'url': 'https://www.amazon...   \n",
      "2   [{'name': 'Amazon', 'url': 'https://www.amazon...   \n",
      "3   [{'name': 'Amazon', 'url': 'https://www.amazon...   \n",
      "4   [{'name': 'Amazon', 'url': 'https://www.amazon...   \n",
      "5   [{'name': 'Amazon', 'url': 'https://www.amazon...   \n",
      "6   [{'name': 'Amazon', 'url': 'https://www.amazon...   \n",
      "7   [{'name': 'Amazon', 'url': 'https://www.amazon...   \n",
      "8   [{'name': 'Amazon', 'url': 'https://www.amazon...   \n",
      "9   [{'name': 'Amazon', 'url': 'https://www.amazon...   \n",
      "10  [{'name': 'Amazon', 'url': 'https://www.amazon...   \n",
      "11  [{'name': 'Amazon', 'url': 'https://www.amazon...   \n",
      "12  [{'name': 'Amazon', 'url': 'https://www.amazon...   \n",
      "13  [{'name': 'Amazon', 'url': 'https://www.amazon...   \n",
      "14  [{'name': 'Amazon', 'url': 'https://www.amazon...   \n",
      "\n",
      "                                           book_uri  \n",
      "0   nyt://book/9ce735af-71cf-5ff3-a367-43ee07e3fdd7  \n",
      "1   nyt://book/44383776-4732-5e8e-8b32-50c324d1b120  \n",
      "2   nyt://book/106c2cf0-7d20-51b1-bad4-91c3ebcd131a  \n",
      "3   nyt://book/0c0be33e-7b6b-591c-b305-3fca58896a6c  \n",
      "4   nyt://book/d3c570c9-3c3a-5c8b-a740-85ea5e92bfc9  \n",
      "5   nyt://book/d5052297-c091-5964-b895-7f8017c26f8a  \n",
      "6   nyt://book/5788b098-426a-5f2c-a318-475692df69ee  \n",
      "7   nyt://book/db9be42d-5085-535d-b3a4-529aad09f22b  \n",
      "8   nyt://book/fd8d95af-3496-5a1b-81d2-d3f7a7a54e90  \n",
      "9   nyt://book/8736f247-4bb0-5b05-8664-28ea55c92479  \n",
      "10  nyt://book/206a5e83-12f4-5ea9-8e63-1da5470a6ef5  \n",
      "11  nyt://book/d5aa005c-08a5-5bd9-ba0e-6dcd5e7e31f8  \n",
      "12  nyt://book/7d47b076-7ad7-539c-a051-6664384636b9  \n",
      "13  nyt://book/ae24a046-ff33-5ec4-949c-57c8425074a1  \n",
      "14  nyt://book/08200787-b098-5be1-8100-eebf32ae8394  \n",
      "\n",
      "[15 rows x 26 columns]\n",
      "\n",
      "Book Reviews DataFrame:\n",
      "                                                  url publication_dt  \\\n",
      "0   http://www.nytimes.com/2011/11/13/books/review...     2011-11-13   \n",
      "1   http://www.nytimes.com/2011/10/31/books/stephe...     2011-10-31   \n",
      "2   http://www.nytimes.com/2004/01/04/books/the-qu...     2004-01-04   \n",
      "3   http://www.nytimes.com/1993/10/24/books/in-sho...     1993-10-24   \n",
      "4   http://www.nytimes.com/2001/11/04/books/books-...     2001-11-04   \n",
      "..                                                ...            ...   \n",
      "61  http://www.nytimes.com/2016/06/12/books/review...     2016-06-12   \n",
      "62  https://www.nytimes.com/2018/05/22/books/revie...     2018-05-22   \n",
      "63  https://www.nytimes.com/2018/10/26/books/revie...     2018-10-26   \n",
      "64  https://www.nytimes.com/2019/09/08/books/revie...     2019-09-08   \n",
      "65  https://www.nytimes.com/2019/09/10/books/revie...     2019-09-10   \n",
      "\n",
      "                     byline                  book_title   book_author  \\\n",
      "0              ERROL MORRIS                    11/22/63  Stephen King   \n",
      "1              JANET MASLIN                    11/22/63  Stephen King   \n",
      "2            ANDREW O'HEHIR         Wolves of the Calla  Stephen King   \n",
      "3       RICHARD E. NICHOLLS  Nightmares and Dreamscapes  Stephen King   \n",
      "4   MARY ELIZABETH WILLIAMS                 Black House  Stephen King   \n",
      "..                      ...                         ...           ...   \n",
      "61              DENISE MINA                End of Watch  Stephen King   \n",
      "62           VICTOR LAVALLE                The Outsider  Stephen King   \n",
      "63             GILBERT CRUZ                   Elevation  Stephen King   \n",
      "64            DWIGHT GARNER               The Institute  Stephen King   \n",
      "65             LAURA MILLER               The Institute  Stephen King   \n",
      "\n",
      "                                              summary  \\\n",
      "0   Stephen King’s time traveler tries to undo som...   \n",
      "1   Stephen King’s latest novel, “11/22/63,” tells...   \n",
      "2                                                       \n",
      "3                                                       \n",
      "4                                                       \n",
      "..                                                ...   \n",
      "61  A retired police detective sees the return of ...   \n",
      "62  “The Outsider” starts out as a routine police ...   \n",
      "63  King’s slim new novel, “Elevation,” returns us...   \n",
      "64  In his latest, King tells the story of an inst...   \n",
      "65  The terror doesn’t come from ghosts or fiends ...   \n",
      "\n",
      "                                    uuid  \\\n",
      "0   00000000-0000-0000-0000-000000000000   \n",
      "1   00000000-0000-0000-0000-000000000000   \n",
      "2   00000000-0000-0000-0000-000000000000   \n",
      "3   00000000-0000-0000-0000-000000000000   \n",
      "4   00000000-0000-0000-0000-000000000000   \n",
      "..                                   ...   \n",
      "61  00000000-0000-0000-0000-000000000000   \n",
      "62  00000000-0000-0000-0000-000000000000   \n",
      "63  00000000-0000-0000-0000-000000000000   \n",
      "64  00000000-0000-0000-0000-000000000000   \n",
      "65  00000000-0000-0000-0000-000000000000   \n",
      "\n",
      "                                                uri  \\\n",
      "0   nyt://book/00000000-0000-0000-0000-000000000000   \n",
      "1   nyt://book/00000000-0000-0000-0000-000000000000   \n",
      "2   nyt://book/00000000-0000-0000-0000-000000000000   \n",
      "3   nyt://book/00000000-0000-0000-0000-000000000000   \n",
      "4   nyt://book/00000000-0000-0000-0000-000000000000   \n",
      "..                                              ...   \n",
      "61  nyt://book/00000000-0000-0000-0000-000000000000   \n",
      "62  nyt://book/00000000-0000-0000-0000-000000000000   \n",
      "63  nyt://book/00000000-0000-0000-0000-000000000000   \n",
      "64  nyt://book/00000000-0000-0000-0000-000000000000   \n",
      "65  nyt://book/00000000-0000-0000-0000-000000000000   \n",
      "\n",
      "                                               isbn13  \n",
      "0   [9780307951434, 9780606351461, 9781442344280, ...  \n",
      "1   [9780307951434, 9780606351461, 9781442344280, ...  \n",
      "2                                     [9781848941137]  \n",
      "3                                     [9781441615299]  \n",
      "4                                     [9780375504396]  \n",
      "..                                                ...  \n",
      "61  [9781410489906, 9781501129742, 9781501134142, ...  \n",
      "62                                    [9781501180989]  \n",
      "63                                    [9781982102319]  \n",
      "64                                    [9781982110567]  \n",
      "65                                    [9781982110567]  \n",
      "\n",
      "[66 rows x 9 columns]\n"
     ]
    }
   ],
   "source": [
    "print(\"Best Sellers DataFrame:\")\n",
    "print(best_sellers_df)\n",
    "\n",
    "print(\"\\nBook Reviews DataFrame:\")\n",
    "print(book_reviews_df)"
   ]
  }
 ],
 "metadata": {
  "kernelspec": {
   "display_name": "Python 3 (ipykernel)",
   "language": "python",
   "name": "python3"
  },
  "language_info": {
   "codemirror_mode": {
    "name": "ipython",
    "version": 3
   },
   "file_extension": ".py",
   "mimetype": "text/x-python",
   "name": "python",
   "nbconvert_exporter": "python",
   "pygments_lexer": "ipython3",
   "version": "3.12.1"
  }
 },
 "nbformat": 4,
 "nbformat_minor": 5
}
