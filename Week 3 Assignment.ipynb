{
 "cells": [
  {
   "cell_type": "markdown",
   "id": "ca067d57-c60a-46b8-9666-d08535a52d1a",
   "metadata": {},
   "source": [
    "# Bicycle Trip from New York City to Key West, Florida"
   ]
  },
  {
   "cell_type": "markdown",
   "id": "8d7f6f79-f98a-4421-93d0-9eb610a969e3",
   "metadata": {},
   "source": [
    "## Introduction\n",
    "In this analysis, we'll examine the cumulative miles ridden on a bicycle trip from New York City to Key West, Florida."
   ]
  },
  {
   "cell_type": "markdown",
   "id": "5ead1da6-136d-43fa-a3c8-205eced0c846",
   "metadata": {},
   "source": [
    "## Data Description\n",
    "The cumulative miles represent the total distance traveled by the cyclist at the end of each day. The data was collected manually using a paper and pencil odometer.\n"
   ]
  },
  {
   "cell_type": "markdown",
   "id": "39bf5be9-30f2-44a0-a525-7804e42a060e",
   "metadata": {},
   "source": [
    "## Steps\n",
    "1. Import the necessary libraries."
   ]
  },
  {
   "cell_type": "code",
   "execution_count": 13,
   "id": "472d5848-46cc-4c5c-89e0-b8e433441ed9",
   "metadata": {},
   "outputs": [],
   "source": [
    "import pandas as pd\n"
   ]
  },
  {
   "cell_type": "markdown",
   "id": "f19045c7-fc75-4564-8a34-3123c4fa0222",
   "metadata": {},
   "source": [
    "2. Define the cumulative miles data."
   ]
  },
  {
   "cell_type": "code",
   "execution_count": 14,
   "id": "31e41db8-b5e4-4ab7-aa1a-88394bb2ebd0",
   "metadata": {},
   "outputs": [],
   "source": [
    "cumulative_miles = [55, 120, 175, 240, 305]\n"
   ]
  },
  {
   "cell_type": "markdown",
   "id": "906e58a8-ece4-467e-adc7-5025d658cbb4",
   "metadata": {},
   "source": [
    "3. Create a Pandas Series object to hold the cumulative miles."
   ]
  },
  {
   "cell_type": "code",
   "execution_count": 15,
   "id": "9f870a2a-4f03-45e9-95e7-4e909d32b13a",
   "metadata": {},
   "outputs": [],
   "source": [
    "miles_series = pd.Series(cumulative_miles)\n"
   ]
  },
  {
   "cell_type": "markdown",
   "id": "623cb3c9-a563-4131-8aec-5cacfce2e70e",
   "metadata": {},
   "source": [
    "4. Calculate the total miles ridden each day."
   ]
  },
  {
   "cell_type": "code",
   "execution_count": 16,
   "id": "9f2b383e-c4b7-4e39-8132-2dd3b723be3f",
   "metadata": {},
   "outputs": [],
   "source": [
    "total_miles_each_day = miles_series.diff().fillna(miles_series.iloc[0])\n"
   ]
  },
  {
   "cell_type": "markdown",
   "id": "d9ba73d8-59ff-48b5-9a55-06a06626826e",
   "metadata": {},
   "source": [
    "5. Display the results.\n"
   ]
  },
  {
   "cell_type": "code",
   "execution_count": 17,
   "id": "97b1caa5-f30a-47ba-bb37-34da004abc24",
   "metadata": {},
   "outputs": [
    {
     "name": "stdout",
     "output_type": "stream",
     "text": [
      "Cumulative Miles at the End of Each Day:\n",
      "0     55\n",
      "1    120\n",
      "2    175\n",
      "3    240\n",
      "4    305\n",
      "dtype: int64\n",
      "\n",
      "Total Miles Ridden Each Day:\n",
      "0    55.0\n",
      "1    65.0\n",
      "2    55.0\n",
      "3    65.0\n",
      "4    65.0\n",
      "dtype: float64\n"
     ]
    }
   ],
   "source": [
    "print(\"Cumulative Miles at the End of Each Day:\")\n",
    "print(miles_series)\n",
    "print(\"\\nTotal Miles Ridden Each Day:\")\n",
    "print(total_miles_each_day)\n"
   ]
  },
  {
   "cell_type": "markdown",
   "id": "38adfe35-3eb1-4aba-835c-d49ef0c7fe07",
   "metadata": {},
   "source": [
    "## Conclusion\n",
    "Overall, the bicycle trip from New York City to Key West, Florida was a challenging yet rewarding journey.\n"
   ]
  }
 ],
 "metadata": {
  "kernelspec": {
   "display_name": "Python 3 (ipykernel)",
   "language": "python",
   "name": "python3"
  },
  "language_info": {
   "codemirror_mode": {
    "name": "ipython",
    "version": 3
   },
   "file_extension": ".py",
   "mimetype": "text/x-python",
   "name": "python",
   "nbconvert_exporter": "python",
   "pygments_lexer": "ipython3",
   "version": "3.12.1"
  }
 },
 "nbformat": 4,
 "nbformat_minor": 5
}
