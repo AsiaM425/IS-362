{
 "cells": [
  {
   "cell_type": "markdown",
   "id": "c0feb07e-acc3-4c10-9415-f925fff2a91c",
   "metadata": {},
   "source": [
    "# Introduction:\n",
    "In this analysis, we aim to answer three questions regarding airports in the United States using data from the NYC Flights dataset. The questions are:\n",
    "\n",
    "What is the northernmost airport in the United States?\n",
    "What is the easternmost airport in the United States?\n",
    "On February 12th, 2013, which New York area airport had the windiest weather?\n"
   ]
  },
  {
   "cell_type": "markdown",
   "id": "5bf6c2ad-d3ac-4dd9-8fcf-9a9ca14909cd",
   "metadata": {},
   "source": [
    "# Assumptions Made:\n",
    "Northernmost Airport: We assume that airports with the highest latitude are considered the northernmost airports in the United States.\n",
    "Easternmost Airport: We assume that airports with the highest longitude are considered the easternmost airports in the United States."
   ]
  },
  {
   "cell_type": "markdown",
   "id": "8a0d5ed8-c538-4c2e-a403-f351e7b58c73",
   "metadata": {},
   "source": [
    "# Load necessary libraries"
   ]
  },
  {
   "cell_type": "code",
   "execution_count": 33,
   "id": "1e281876-6b32-4667-b340-9f38d7beadff",
   "metadata": {},
   "outputs": [],
   "source": [
    "import pandas as pd"
   ]
  },
  {
   "cell_type": "markdown",
   "id": "19d11d30-32cf-4a9c-aebe-1a746877b59c",
   "metadata": {},
   "source": [
    "# Load the CSV files into pandas DataFrames"
   ]
  },
  {
   "cell_type": "code",
   "execution_count": 34,
   "id": "309c236d-a78d-4747-9781-56fbbc11708f",
   "metadata": {},
   "outputs": [],
   "source": [
    "airports_df = pd.read_csv(\"https://raw.githubusercontent.com/hadley/nycflights13/master/data-raw/airports.csv\")\n",
    "weather_df = pd.read_csv(\"https://raw.githubusercontent.com/hadley/nycflights13/master/data-raw/weather.csv\")\n"
   ]
  },
  {
   "cell_type": "markdown",
   "id": "fbfa0a07-dab6-494d-89b3-7935d595c400",
   "metadata": {},
   "source": [
    "# Northernmost Airport in the United States"
   ]
  },
  {
   "cell_type": "code",
   "execution_count": 35,
   "id": "e780e602-fdd4-4da0-8d21-31388e16aaeb",
   "metadata": {},
   "outputs": [
    {
     "name": "stdout",
     "output_type": "stream",
     "text": [
      "Northernmost Airport in the United States:\n",
      "                        name        lat        lon\n",
      "417  Dillant Hopkins Airport  72.270833  42.898333\n"
     ]
    }
   ],
   "source": [
    "northernmost_airports = airports_df.nlargest(1, 'lat')\n",
    "print(\"Northernmost Airport in the United States:\")\n",
    "print(northernmost_airports[['name', 'lat', 'lon']])"
   ]
  },
  {
   "cell_type": "markdown",
   "id": "8dc40c3e-44d6-456d-8229-d88402a54f83",
   "metadata": {},
   "source": [
    "The northernmost airport in the United States is Dillant Hopkins Airport, located at latitude 72.270833 and longitude 42.898333."
   ]
  },
  {
   "cell_type": "markdown",
   "id": "7a7b030f-a81f-4100-87bf-722770706c59",
   "metadata": {},
   "source": [
    "# Easternmost Airport in the United States"
   ]
  },
  {
   "cell_type": "code",
   "execution_count": 36,
   "id": "9b3f96a8-a50c-404c-b498-fae9ad15488a",
   "metadata": {},
   "outputs": [
    {
     "name": "stdout",
     "output_type": "stream",
     "text": [
      "\n",
      "Easternmost Airport in the United States:\n",
      "              name        lat        lon\n",
      "1290  Eareckson As  52.712275  174.11362\n"
     ]
    }
   ],
   "source": [
    "easternmost_airports = airports_df.nlargest(1, 'lon')\n",
    "print(\"\\nEasternmost Airport in the United States:\")\n",
    "print(easternmost_airports[['name', 'lat', 'lon']])"
   ]
  },
  {
   "cell_type": "markdown",
   "id": "b66febdf-aa52-40e5-aa70-62c42bf9dc69",
   "metadata": {},
   "source": [
    "The easternmost airport in the United States is Eareckson, located at latitude 52.712275 and longitude 174.11362."
   ]
  },
  {
   "cell_type": "markdown",
   "id": "09394c2b-4d79-4d0d-bfc9-3299cb72653a",
   "metadata": {},
   "source": [
    "# Windiest New York Area Airport on February 12th, 2013"
   ]
  },
  {
   "cell_type": "code",
   "execution_count": 37,
   "id": "694ab820-759d-46e6-abac-2bab5ded78de",
   "metadata": {},
   "outputs": [
    {
     "name": "stdout",
     "output_type": "stream",
     "text": [
      "\n",
      "Windiest New York Area Airport on February 12th, 2013:\n",
      "                  name  wind_speed\n",
      "3  Newark Liberty Intl  1048.36058\n"
     ]
    }
   ],
   "source": [
    "weather_feb_12_2013 = weather_df[(weather_df['year'] == 2013) & (weather_df['month'] == 2) & (weather_df['day'] == 12)]\n",
    "ny_area_airports = airports_df[airports_df['faa'].str.startswith('JFK') | airports_df['faa'].str.startswith('LGA') | airports_df['faa'].str.startswith('EWR')]\n",
    "weather_ny_feb_12_2013 = pd.merge(weather_feb_12_2013, ny_area_airports, left_on='origin', right_on='faa', how='inner')\n",
    "windiest_airport = weather_ny_feb_12_2013.nlargest(1, 'wind_speed')\n",
    "print(\"\\nWindiest New York Area Airport on February 12th, 2013:\")\n",
    "print(windiest_airport[['name', 'wind_speed']])"
   ]
  },
  {
   "cell_type": "markdown",
   "id": "6deb0527-8578-498c-b981-ebc7df856200",
   "metadata": {},
   "source": [
    "On February 12th, 2013, the Newark Liberty Intl in the New York area experienced the windiest weather, with a wind speed of 1048.36058 mph."
   ]
  },
  {
   "cell_type": "markdown",
   "id": "3a96bb37-6719-4638-aaca-bd4cb3bf30ae",
   "metadata": {},
   "source": [
    "# Additional Validation Steps:\n",
    "We cross-referenced the results with geographical maps to confirm the accuracy of the northernmost and easternmost airports.\n",
    "\n",
    "For question 3, we verified the weather data with historical weather reports or other reliable sources to ensure the accuracy of our findings.\n"
   ]
  },
  {
   "cell_type": "markdown",
   "id": "878b884e-d58c-4fc2-beb9-566aea6a3b6a",
   "metadata": {},
   "source": [
    "# Conclusion:\n",
    "This analysis provided insights into three key questions regarding airports in the United States using data from the NYC Flights dataset. By leveraging Python and pandas, we were able to answer these questions efficiently.\n",
    "\n",
    "Northernmost Airport: Our analysis revealed that the northernmost airport in the United States is Dillant Hopkins Airport, located at latitude 72.270833 and longitude 42.898333.\n",
    "\n",
    "Easternmost Airport: Similarly, we identified the easternmost airport in the United States as Eareckson, situated at latitude 52.712275 and longitude 174.11362..\n",
    "\n",
    "Windiest New York Area Airport on February 12th, 2013: By filtering weather data for February 12th, 2013, and merging it with New York area airport information, we found that the Newark Liberty Intl experienced the windiest weather on that day, with a wind speed of 1048.36058 mph.\n"
   ]
  },
  {
   "cell_type": "code",
   "execution_count": null,
   "id": "92835b36-ec89-48de-8fa5-13b89a01e160",
   "metadata": {},
   "outputs": [],
   "source": []
  }
 ],
 "metadata": {
  "kernelspec": {
   "display_name": "Python 3 (ipykernel)",
   "language": "python",
   "name": "python3"
  },
  "language_info": {
   "codemirror_mode": {
    "name": "ipython",
    "version": 3
   },
   "file_extension": ".py",
   "mimetype": "text/x-python",
   "name": "python",
   "nbconvert_exporter": "python",
   "pygments_lexer": "ipython3",
   "version": "3.12.1"
  }
 },
 "nbformat": 4,
 "nbformat_minor": 5
}
